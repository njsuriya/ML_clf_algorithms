{
  "nbformat": 4,
  "nbformat_minor": 0,
  "metadata": {
    "colab": {
      "provenance": [],
      "collapsed_sections": [],
      "authorship_tag": "ABX9TyMtwNjLgm7XqBtSkbpD4cqW",
      "include_colab_link": true
    },
    "kernelspec": {
      "name": "python3",
      "display_name": "Python 3"
    },
    "language_info": {
      "name": "python"
    }
  },
  "cells": [
    {
      "cell_type": "markdown",
      "metadata": {
        "id": "view-in-github",
        "colab_type": "text"
      },
      "source": [
        "<a href=\"https://colab.research.google.com/github/njsuriya/ML_clf_algorithms/blob/main/iris_knn_clf.ipynb\" target=\"_parent\"><img src=\"https://colab.research.google.com/assets/colab-badge.svg\" alt=\"Open In Colab\"/></a>"
      ]
    },
    {
      "cell_type": "code",
      "execution_count": 38,
      "metadata": {
        "id": "h9miHc8ptQyg"
      },
      "outputs": [],
      "source": [
        "from sklearn import datasets\n",
        "import pandas as pd\n",
        "from sklearn.neighbors import KNeighborsClassifier\n",
        "from sklearn.metrics import accuracy_score\n",
        "from sklearn.metrics import confusion_matrix,ConfusionMatrixDisplay,plot_confusion_matrix\n",
        "from sklearn.model_selection import train_test_split\n",
        "import seaborn as sns\n",
        "import matplotlib.pyplot as plt\n",
        "import time"
      ]
    },
    {
      "cell_type": "code",
      "source": [
        "iris = datasets.load_iris()\n",
        "iris_df = pd.DataFrame(iris.data,columns=iris.feature_names)\n",
        "iris_df['species']=iris.target\n",
        "iris_df['names'] = iris_df.species.apply(lambda x: iris.target_names[x])"
      ],
      "metadata": {
        "id": "2SvrA90yvnBg"
      },
      "execution_count": 5,
      "outputs": []
    },
    {
      "cell_type": "code",
      "source": [
        "input_features = iris_df.drop(['species','names'],axis=1)\n",
        "output_features = iris_df['names']"
      ],
      "metadata": {
        "id": "kdLK5Nr_wkCr"
      },
      "execution_count": 6,
      "outputs": []
    },
    {
      "cell_type": "code",
      "source": [
        "x_train,x_test,y_train,y_test = train_test_split(input_features,output_features)"
      ],
      "metadata": {
        "id": "lTVf9M-jxFGd"
      },
      "execution_count": 7,
      "outputs": []
    },
    {
      "cell_type": "code",
      "source": [
        "len(x_train)"
      ],
      "metadata": {
        "colab": {
          "base_uri": "https://localhost:8080/"
        },
        "id": "7-xyp2mSxZs7",
        "outputId": "6c6a394d-b821-4e58-a5f1-7b0ced35099f"
      },
      "execution_count": 8,
      "outputs": [
        {
          "output_type": "execute_result",
          "data": {
            "text/plain": [
              "112"
            ]
          },
          "metadata": {},
          "execution_count": 8
        }
      ]
    },
    {
      "cell_type": "code",
      "source": [
        "len(x_test)"
      ],
      "metadata": {
        "colab": {
          "base_uri": "https://localhost:8080/"
        },
        "id": "zZi5lVdMxff-",
        "outputId": "b82080b7-8d76-4f17-a25f-186499749e4a"
      },
      "execution_count": 9,
      "outputs": [
        {
          "output_type": "execute_result",
          "data": {
            "text/plain": [
              "38"
            ]
          },
          "metadata": {},
          "execution_count": 9
        }
      ]
    },
    {
      "cell_type": "code",
      "source": [
        "knn_clf = KNeighborsClassifier(n_neighbors=10)\n",
        "knn_clf_model = knn_clf.fit(x_train,y_train)"
      ],
      "metadata": {
        "id": "7GmpinCwxk83"
      },
      "execution_count": 82,
      "outputs": []
    },
    {
      "cell_type": "code",
      "source": [
        "knn_clf_model_score = knn_clf_model.score(x_test,y_test)\n",
        "knn_clf_model_score"
      ],
      "metadata": {
        "colab": {
          "base_uri": "https://localhost:8080/"
        },
        "id": "cYtzeRSKyWUD",
        "outputId": "75483524-9526-4657-df7c-b72ef16fb412"
      },
      "execution_count": 83,
      "outputs": [
        {
          "output_type": "execute_result",
          "data": {
            "text/plain": [
              "0.9473684210526315"
            ]
          },
          "metadata": {},
          "execution_count": 83
        }
      ]
    },
    {
      "cell_type": "code",
      "source": [
        "predicted_species = knn_clf_model.predict(x_test)"
      ],
      "metadata": {
        "id": "s5QEW3UQ0gx1"
      },
      "execution_count": 84,
      "outputs": []
    },
    {
      "cell_type": "code",
      "source": [
        "knn_clf_model_cm = confusion_matrix(y_test,predicted_species)\n",
        "knn_clf_model_cm"
      ],
      "metadata": {
        "colab": {
          "base_uri": "https://localhost:8080/"
        },
        "id": "O-Zd1Ua70SZk",
        "outputId": "5fc499f8-6239-428c-b7bc-69a775e6ae72"
      },
      "execution_count": 85,
      "outputs": [
        {
          "output_type": "execute_result",
          "data": {
            "text/plain": [
              "array([[11,  0,  0],\n",
              "       [ 0, 12,  0],\n",
              "       [ 0,  2, 13]])"
            ]
          },
          "metadata": {},
          "execution_count": 85
        }
      ]
    },
    {
      "cell_type": "code",
      "source": [
        "plot_confusion_matrix(knn_clf_model,x_test,y_test)"
      ],
      "metadata": {
        "colab": {
          "base_uri": "https://localhost:8080/",
          "height": 352
        },
        "id": "6H-Eb2k0-DMD",
        "outputId": "919d9192-28a6-4e90-fa68-bf3874e23a59"
      },
      "execution_count": 86,
      "outputs": [
        {
          "output_type": "stream",
          "name": "stderr",
          "text": [
            "/usr/local/lib/python3.7/dist-packages/sklearn/utils/deprecation.py:87: FutureWarning: Function plot_confusion_matrix is deprecated; Function `plot_confusion_matrix` is deprecated in 1.0 and will be removed in 1.2. Use one of the class methods: ConfusionMatrixDisplay.from_predictions or ConfusionMatrixDisplay.from_estimator.\n",
            "  warnings.warn(msg, category=FutureWarning)\n"
          ]
        },
        {
          "output_type": "execute_result",
          "data": {
            "text/plain": [
              "<sklearn.metrics._plot.confusion_matrix.ConfusionMatrixDisplay at 0x7f578471fc10>"
            ]
          },
          "metadata": {},
          "execution_count": 86
        },
        {
          "output_type": "display_data",
          "data": {
            "text/plain": [
              "<Figure size 432x288 with 2 Axes>"
            ],
            "image/png": "[encoded data removed]"
          },
          "metadata": {
            "needs_background": "light"
          }
        }
      ]
    },
    {
      "cell_type": "code",
      "source": [
        "def train_knnmodel_with_kvalues(k):\n",
        "  start = time.perf_counter()\n",
        "  knn_clf = KNeighborsClassifier(n_neighbors=k).fit(x_train,y_train)\n",
        "  train_time = time.perf_counter() - start\n",
        "  return train_time,knn_clf"
      ],
      "metadata": {
        "id": "x9VenUytFJj5"
      },
      "execution_count": 30,
      "outputs": []
    },
    {
      "cell_type": "code",
      "source": [
        "def test_knnmodel(model):\n",
        "  start = time.perf_counter()\n",
        "  clf_pred = model.predict(x_test)\n",
        "  test_time = time.perf_counter() - start\n",
        "  prediction_score = accuracy_score(y_test,clf_pred)\n",
        "  #cm_map = ConfusionMatrixDisplay.from_predictions(y_test,clf_pred)\n",
        "  return test_time,prediction_score,cm_map"
      ],
      "metadata": {
        "id": "UVXDug9dISNo"
      },
      "execution_count": 73,
      "outputs": []
    },
    {
      "cell_type": "code",
      "source": [
        "#k_values = [1,2,3,4,5,6,7,8,9,10,15,20,50,100,112]\n",
        "accu_score = list()\n",
        "train_time = list()\n",
        "pred_time = list()\n",
        "for n_neighbour in range(1,113):\n",
        "  _train_time, knnmodel = train_knnmodel_with_kvalues(n_neighbour)\n",
        "  _test_time, score, cm_map =test_knnmodel(knnmodel)\n",
        "  accu_score.append(score)\n",
        "  train_time.append(_train_time)\n",
        "  pred_time.append(_test_time)\n",
        "  print(\"KValue:::\"+str(n_neighbour)+\" Training Time:::\"+str(_train_time)+\" PredctionTime:::\"+str(_test_time)+\" Score:::\"+str(score))\n",
        "  #cm_map\n",
        "  #print('\\n')"
      ],
      "metadata": {
        "id": "o1pcfa6aEsTq"
      },
      "execution_count": null,
      "outputs": []
    },
    {
      "cell_type": "code",
      "source": [
        "plt.plot(range(1,25),accu_score[:24],marker=\"*\")\n",
        "plt.xlabel(\"K values\")\n",
        "plt.ylabel(\"Accuracy\")\n",
        "plt.show()"
      ],
      "metadata": {
        "colab": {
          "base_uri": "https://localhost:8080/",
          "height": 279
        },
        "id": "M3mp-XqkW8HQ",
        "outputId": "7b3e1fc3-c604-452a-bf2f-73106132ae17"
      },
      "execution_count": 80,
      "outputs": [
        {
          "output_type": "display_data",
          "data": {
            "text/plain": [
              "<Figure size 432x288 with 1 Axes>"
            ],
            "image/png": "[encoded data removed]"
          },
          "metadata": {
            "needs_background": "light"
          }
        }
      ]
    },
    {
      "cell_type": "code",
      "source": [
        "plt.plot(range(1,25),train_time[:24],marker=\"*\")\n",
        "plt.xlabel(\"K values\")\n",
        "plt.ylabel(\"Training Time\")\n",
        "plt.show()"
      ],
      "metadata": {
        "colab": {
          "base_uri": "https://localhost:8080/",
          "height": 279
        },
        "id": "67dknrVDhAxv",
        "outputId": "b58477be-4145-4988-f858-2edd2406bb96"
      },
      "execution_count": 81,
      "outputs": [
        {
          "output_type": "display_data",
          "data": {
            "text/plain": [
              "<Figure size 432x288 with 1 Axes>"
            ],
            "image/png": "[encoded data removed]"
          },
          "metadata": {
            "needs_background": "light"
          }
        }
      ]
    },
    {
      "cell_type": "code",
      "source": [
        "def knn_train_with_njobs(njob):\n",
        "  start = time.perf_counter()\n",
        "  knn_clf = KNeighborsClassifier(n_neighbors=10,n_jobs=njob)\n",
        "  knn_clf_model = knn_clf.fit(x_train,y_train)\n",
        "  train_time = time.perf_counter() - start\n",
        "  return train_time,knn_clf"
      ],
      "metadata": {
        "id": "vGkwTLbOtn6h"
      },
      "execution_count": 92,
      "outputs": []
    },
    {
      "cell_type": "code",
      "source": [
        "def test_knnmodel(model):\n",
        "  start = time.perf_counter()\n",
        "  clf_pred = model.predict(x_test)\n",
        "  test_time = time.perf_counter() - start\n",
        "  prediction_score = accuracy_score(y_test,clf_pred)\n",
        "  #cm_map = ConfusionMatrixDisplay.from_predictions(y_test,clf_pred)\n",
        "  return test_time,prediction_score,cm_map"
      ],
      "metadata": {
        "id": "fD1iOx7huZfj"
      },
      "execution_count": 93,
      "outputs": []
    },
    {
      "cell_type": "code",
      "source": [
        "#Jobs need to choose based on the no of CPU-core inside the machine \n",
        "\n",
        "import os\n",
        "os = os.cpu_count()\n",
        "_train_time = list()\n",
        "_pred_time = list()\n",
        "jobs = range(1,50)\n",
        "for n_job in jobs:\n",
        "  train_time,knn_clf = knn_train_with_njobs(n_job)\n",
        "  test_time,prediction_score,cm_map = test_knnmodel(knn_clf)\n",
        "  _pred_time.append(test_time)\n",
        "  _train_time.append(train_time)\n",
        "  print(\"nJob:::\"+str(n_job)+\" Training Time:::\"+str(train_time)+\" PredctionTime:::\"+str(test_time)+\" Score:::\"+str(prediction_score))"
      ],
      "metadata": {
        "id": "Omv7kQgQukKo"
      },
      "execution_count": null,
      "outputs": []
    },
    {
      "cell_type": "code",
      "source": [
        "plt.plot(jobs,_train_time,marker=\"o\")\n",
        "plt.show"
      ],
      "metadata": {
        "colab": {
          "base_uri": "https://localhost:8080/",
          "height": 283
        },
        "id": "85EMPsDCwDB4",
        "outputId": "9f810a26-ef3d-461a-e82e-d99c07d0407a"
      },
      "execution_count": 108,
      "outputs": [
        {
          "output_type": "execute_result",
          "data": {
            "text/plain": [
              "<function matplotlib.pyplot.show(*args, **kw)>"
            ]
          },
          "metadata": {},
          "execution_count": 108
        },
        {
          "output_type": "display_data",
          "data": {
            "text/plain": [
              "<Figure size 432x288 with 1 Axes>"
            ],
            "image/png": "[encoded data removed]"
          },
          "metadata": {
            "needs_background": "light"
          }
        }
      ]
    }
  ]
}