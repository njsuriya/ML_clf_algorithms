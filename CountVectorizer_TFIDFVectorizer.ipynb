{
  "nbformat": 4,
  "nbformat_minor": 0,
  "metadata": {
    "colab": {
      "provenance": [],
      "collapsed_sections": [],
      "authorship_tag": "ABX9TyOMyS51bocw33WSi1nYw4N/",
      "include_colab_link": true
    },
    "kernelspec": {
      "name": "python3",
      "display_name": "Python 3"
    },
    "language_info": {
      "name": "python"
    }
  },
  "cells": [
    {
      "cell_type": "markdown",
      "metadata": {
        "id": "view-in-github",
        "colab_type": "text"
      },
      "source": [
        "<a href=\"https://colab.research.google.com/github/njsuriya/ML_clf_algorithms/blob/main/CountVectorizer_TFIDFVectorizer.ipynb\" target=\"_parent\"><img src=\"https://colab.research.google.com/assets/colab-badge.svg\" alt=\"Open In Colab\"/></a>"
      ]
    },
    {
      "cell_type": "markdown",
      "source": [
        "**COUNT VECTORIZER**"
      ],
      "metadata": {
        "id": "EsDiu7_NBhFV"
      }
    },
    {
      "cell_type": "code",
      "execution_count": 1,
      "metadata": {
        "id": "IaEsQw628zZW"
      },
      "outputs": [],
      "source": [
        "from sklearn.feature_extraction.text import CountVectorizer"
      ]
    },
    {
      "cell_type": "code",
      "source": [
        "documents = [\"Jeyasuriya is from Madurai district\", \n",
        "             \"Madurai is in TamilNadu state. Madurai is known as temple city \", \n",
        "             \"He was born and studied in his native place Madurai\"]"
      ],
      "metadata": {
        "id": "mrmFqzM49NxY"
      },
      "execution_count": 2,
      "outputs": []
    },
    {
      "cell_type": "code",
      "source": [
        "cv = CountVectorizer()\n",
        "cv_removedstop = CountVectorizer(stop_words='english')"
      ],
      "metadata": {
        "id": "RkWqfVnK9sQP"
      },
      "execution_count": 3,
      "outputs": []
    },
    {
      "cell_type": "code",
      "source": [
        "documents_cv = cv.fit_transform(documents)"
      ],
      "metadata": {
        "id": "SrngOO6e93aI"
      },
      "execution_count": 4,
      "outputs": []
    },
    {
      "cell_type": "code",
      "source": [
        "cv.get_feature_names_out()"
      ],
      "metadata": {
        "colab": {
          "base_uri": "https://localhost:8080/"
        },
        "id": "bRazIMd599SK",
        "outputId": "be4c6aee-1597-4d17-9bb8-ec524d6d0214"
      },
      "execution_count": 5,
      "outputs": [
        {
          "output_type": "execute_result",
          "data": {
            "text/plain": [
              "array(['and', 'as', 'born', 'city', 'district', 'from', 'he', 'his', 'in',\n",
              "       'is', 'jeyasuriya', 'known', 'madurai', 'native', 'place', 'state',\n",
              "       'studied', 'tamilnadu', 'temple', 'was'], dtype=object)"
            ]
          },
          "metadata": {},
          "execution_count": 5
        }
      ]
    },
    {
      "cell_type": "code",
      "source": [
        "documents_cv"
      ],
      "metadata": {
        "colab": {
          "base_uri": "https://localhost:8080/"
        },
        "id": "0hdz875a-RfA",
        "outputId": "12f02527-8761-45a3-82a3-2a973d73cf48"
      },
      "execution_count": 6,
      "outputs": [
        {
          "output_type": "execute_result",
          "data": {
            "text/plain": [
              "<3x20 sparse matrix of type '<class 'numpy.int64'>'\n",
              "\twith 24 stored elements in Compressed Sparse Row format>"
            ]
          },
          "metadata": {},
          "execution_count": 6
        }
      ]
    },
    {
      "cell_type": "code",
      "source": [
        "documents_cv.toarray()"
      ],
      "metadata": {
        "colab": {
          "base_uri": "https://localhost:8080/"
        },
        "id": "IoQxiARk-U8n",
        "outputId": "cac39e85-2fda-4523-b349-9f0cc55fa32c"
      },
      "execution_count": 7,
      "outputs": [
        {
          "output_type": "execute_result",
          "data": {
            "text/plain": [
              "array([[0, 0, 0, 0, 1, 1, 0, 0, 0, 1, 1, 0, 1, 0, 0, 0, 0, 0, 0, 0],\n",
              "       [0, 1, 0, 1, 0, 0, 0, 0, 1, 2, 0, 1, 2, 0, 0, 1, 0, 1, 1, 0],\n",
              "       [1, 0, 1, 0, 0, 0, 1, 1, 1, 0, 0, 0, 1, 1, 1, 0, 1, 0, 0, 1]])"
            ]
          },
          "metadata": {},
          "execution_count": 7
        }
      ]
    },
    {
      "cell_type": "code",
      "source": [
        "documents_cv_removedstop = cv_removedstop.fit_transform(documents)"
      ],
      "metadata": {
        "id": "ZSsKumT6B3DH"
      },
      "execution_count": 8,
      "outputs": []
    },
    {
      "cell_type": "code",
      "source": [
        "cv_removedstop.get_feature_names_out()"
      ],
      "metadata": {
        "colab": {
          "base_uri": "https://localhost:8080/"
        },
        "id": "mSW-XrdTCJC1",
        "outputId": "9a055dcb-8968-4d5e-b350-6421e6f7998d"
      },
      "execution_count": 9,
      "outputs": [
        {
          "output_type": "execute_result",
          "data": {
            "text/plain": [
              "array(['born', 'city', 'district', 'jeyasuriya', 'known', 'madurai',\n",
              "       'native', 'place', 'state', 'studied', 'tamilnadu', 'temple'],\n",
              "      dtype=object)"
            ]
          },
          "metadata": {},
          "execution_count": 9
        }
      ]
    },
    {
      "cell_type": "code",
      "source": [
        "documents_cv_removedstop.toarray()"
      ],
      "metadata": {
        "colab": {
          "base_uri": "https://localhost:8080/"
        },
        "id": "isiGgGXcCXIN",
        "outputId": "98ab936e-253c-4ee2-b188-b3cdadc139df"
      },
      "execution_count": 10,
      "outputs": [
        {
          "output_type": "execute_result",
          "data": {
            "text/plain": [
              "array([[0, 0, 1, 1, 0, 1, 0, 0, 0, 0, 0, 0],\n",
              "       [0, 1, 0, 0, 1, 2, 0, 0, 1, 0, 1, 1],\n",
              "       [1, 0, 0, 0, 0, 1, 1, 1, 0, 1, 0, 0]])"
            ]
          },
          "metadata": {},
          "execution_count": 10
        }
      ]
    },
    {
      "cell_type": "code",
      "source": [
        "cv_ngram_notstop = CountVectorizer(ngram_range=(2,2))\n",
        "cv_ngram_notstop.fit(documents)\n",
        "doc_cv_ngram_notstop = cv_ngram_notstop.transform(documents)\n",
        "cv_ngram_notstop.get_feature_names_out()"
      ],
      "metadata": {
        "colab": {
          "base_uri": "https://localhost:8080/"
        },
        "id": "E1bxaT8aDIkN",
        "outputId": "5eec0ed3-5343-4e33-8dd0-6247097bd32d"
      },
      "execution_count": 11,
      "outputs": [
        {
          "output_type": "execute_result",
          "data": {
            "text/plain": [
              "array(['and studied', 'as temple', 'born and', 'from madurai', 'he was',\n",
              "       'his native', 'in his', 'in tamilnadu', 'is from', 'is in',\n",
              "       'is known', 'jeyasuriya is', 'known as', 'madurai district',\n",
              "       'madurai is', 'native place', 'place madurai', 'state madurai',\n",
              "       'studied in', 'tamilnadu state', 'temple city', 'was born'],\n",
              "      dtype=object)"
            ]
          },
          "metadata": {},
          "execution_count": 11
        }
      ]
    },
    {
      "cell_type": "code",
      "source": [
        "doc_cv_ngram_notstop"
      ],
      "metadata": {
        "colab": {
          "base_uri": "https://localhost:8080/"
        },
        "id": "RaXxwmTVD1lf",
        "outputId": "a006e372-fbde-407e-9b48-2c5fe04e3be6"
      },
      "execution_count": 12,
      "outputs": [
        {
          "output_type": "execute_result",
          "data": {
            "text/plain": [
              "<3x22 sparse matrix of type '<class 'numpy.int64'>'\n",
              "\twith 22 stored elements in Compressed Sparse Row format>"
            ]
          },
          "metadata": {},
          "execution_count": 12
        }
      ]
    },
    {
      "cell_type": "code",
      "source": [
        "doc_cv_ngram_notstop.toarray()"
      ],
      "metadata": {
        "colab": {
          "base_uri": "https://localhost:8080/"
        },
        "id": "vrEvo3PtD3ms",
        "outputId": "f8c9cd79-f68b-4576-b8e8-18d6ae3c7682"
      },
      "execution_count": 13,
      "outputs": [
        {
          "output_type": "execute_result",
          "data": {
            "text/plain": [
              "array([[0, 0, 0, 1, 0, 0, 0, 0, 1, 0, 0, 1, 0, 1, 0, 0, 0, 0, 0, 0, 0, 0],\n",
              "       [0, 1, 0, 0, 0, 0, 0, 1, 0, 1, 1, 0, 1, 0, 2, 0, 0, 1, 0, 1, 1, 0],\n",
              "       [1, 0, 1, 0, 1, 1, 1, 0, 0, 0, 0, 0, 0, 0, 0, 1, 1, 0, 1, 0, 0, 1]])"
            ]
          },
          "metadata": {},
          "execution_count": 13
        }
      ]
    },
    {
      "cell_type": "markdown",
      "source": [
        "***fit() method used to get the parameters(mean , variance for Standard Scalar | Unique words (vocabulary ) & frequency for Count vectorizer..) transform method will apply the above params to the data features and forms the scaled features (Document Term Matrix for TFIDF and CV )***\n",
        "\n",
        "---\n",
        "\n",
        "fit_transform is used in the train set , transform is used in the test set (because exposing the test set to the train model as new )"
      ],
      "metadata": {
        "id": "EgEQq-VmewZQ"
      }
    },
    {
      "cell_type": "markdown",
      "source": [
        "**TFIDF VECTORIZER**"
      ],
      "metadata": {
        "id": "7LqNFkxII8Ie"
      }
    },
    {
      "cell_type": "code",
      "source": [
        "from sklearn.feature_extraction.text import TfidfVectorizer"
      ],
      "metadata": {
        "id": "wSqtVHgiJBNS"
      },
      "execution_count": 14,
      "outputs": []
    },
    {
      "cell_type": "code",
      "source": [
        "doc = [\"Suriya,Suriya How are you? How about your life?\", \"Are you still located in Madurai?\", \" Is you company located in Madurai? I'll come to Madurai to see you\"]"
      ],
      "metadata": {
        "id": "nQhztfOQUZy1"
      },
      "execution_count": 25,
      "outputs": []
    },
    {
      "cell_type": "code",
      "source": [
        "tfidf = TfidfVectorizer()"
      ],
      "metadata": {
        "id": "rsx0Et_2alCj"
      },
      "execution_count": 26,
      "outputs": []
    },
    {
      "cell_type": "code",
      "source": [
        "tfidf.fit(doc)"
      ],
      "metadata": {
        "colab": {
          "base_uri": "https://localhost:8080/"
        },
        "id": "DHIDp1RfdQMY",
        "outputId": "e3bc0e6f-d455-487e-f23d-2abd56b9cfa7"
      },
      "execution_count": 27,
      "outputs": [
        {
          "output_type": "execute_result",
          "data": {
            "text/plain": [
              "TfidfVectorizer()"
            ]
          },
          "metadata": {},
          "execution_count": 27
        }
      ]
    },
    {
      "cell_type": "code",
      "source": [
        "doc_tfidf = tfidf.transform(doc)"
      ],
      "metadata": {
        "id": "MssfPnj6dfsz"
      },
      "execution_count": 28,
      "outputs": []
    },
    {
      "cell_type": "code",
      "source": [
        "tfidf.get_feature_names_out()"
      ],
      "metadata": {
        "colab": {
          "base_uri": "https://localhost:8080/"
        },
        "id": "B0SiWAZ4dsX8",
        "outputId": "2d76b456-8518-4461-c2ee-72bc9acd5c63"
      },
      "execution_count": 29,
      "outputs": [
        {
          "output_type": "execute_result",
          "data": {
            "text/plain": [
              "array(['about', 'are', 'come', 'company', 'how', 'in', 'is', 'life', 'll',\n",
              "       'located', 'madurai', 'see', 'still', 'suriya', 'to', 'you',\n",
              "       'your'], dtype=object)"
            ]
          },
          "metadata": {},
          "execution_count": 29
        }
      ]
    },
    {
      "cell_type": "code",
      "source": [
        "doc_tfidf"
      ],
      "metadata": {
        "colab": {
          "base_uri": "https://localhost:8080/"
        },
        "id": "pjQyhcfpeYXY",
        "outputId": "eac5fcf1-0a8c-4538-b5f2-2dffd0c1485e"
      },
      "execution_count": 30,
      "outputs": [
        {
          "output_type": "execute_result",
          "data": {
            "text/plain": [
              "<3x17 sparse matrix of type '<class 'numpy.float64'>'\n",
              "\twith 23 stored elements in Compressed Sparse Row format>"
            ]
          },
          "metadata": {},
          "execution_count": 30
        }
      ]
    },
    {
      "cell_type": "code",
      "source": [
        "#The document Term matrix probability will increase if same vocabulary occurs in document multiple times \n",
        "\n",
        "doc_tfidf.toarray()"
      ],
      "metadata": {
        "colab": {
          "base_uri": "https://localhost:8080/"
        },
        "id": "ckqEUZtKedyv",
        "outputId": "a7bd2eec-b161-4568-db76-fdfd2d8ed1bb"
      },
      "execution_count": 31,
      "outputs": [
        {
          "output_type": "execute_result",
          "data": {
            "text/plain": [
              "array([[0.28955446, 0.22021363, 0.        , 0.        , 0.57910892,\n",
              "        0.        , 0.        , 0.28955446, 0.        , 0.        ,\n",
              "        0.        , 0.        , 0.        , 0.57910892, 0.        ,\n",
              "        0.17101553, 0.28955446],\n",
              "       [0.        , 0.39740155, 0.        , 0.        , 0.        ,\n",
              "        0.39740155, 0.        , 0.        , 0.        , 0.39740155,\n",
              "        0.39740155, 0.        , 0.52253528, 0.        , 0.        ,\n",
              "        0.30861775, 0.        ],\n",
              "       [0.        , 0.        , 0.26855238, 0.26855238, 0.        ,\n",
              "        0.20424101, 0.26855238, 0.        , 0.26855238, 0.20424101,\n",
              "        0.40848201, 0.26855238, 0.        , 0.        , 0.53710476,\n",
              "        0.31722272, 0.        ]])"
            ]
          },
          "metadata": {},
          "execution_count": 31
        }
      ]
    }
  ]
}