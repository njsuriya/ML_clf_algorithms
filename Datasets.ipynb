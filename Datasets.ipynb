{
  "nbformat": 4,
  "nbformat_minor": 0,
  "metadata": {
    "colab": {
      "provenance": [],
      "authorship_tag": "ABX9TyMyM3BCNUGqRus8CoOEA9LD",
      "include_colab_link": true
    },
    "kernelspec": {
      "name": "python3",
      "display_name": "Python 3"
    },
    "language_info": {
      "name": "python"
    }
  },
  "cells": [
    {
      "cell_type": "markdown",
      "metadata": {
        "id": "view-in-github",
        "colab_type": "text"
      },
      "source": [
        "<a href=\"https://colab.research.google.com/github/njsuriya/ML_clf_algorithms/blob/main/Datasets.ipynb\" target=\"_parent\"><img src=\"https://colab.research.google.com/assets/colab-badge.svg\" alt=\"Open In Colab\"/></a>"
      ]
    },
    {
      "cell_type": "code",
      "execution_count": 1,
      "metadata": {
        "id": "0viVv7o09w7P"
      },
      "outputs": [],
      "source": [
        "from sklearn import datasets\n",
        "import pandas as pd\n",
        "iris = datasets.load_iris()\n",
        "iris_df = pd.DataFrame(iris.data,columns=iris.feature_names)\n",
        "iris_df['species']=iris.target\n",
        "iris_df['names'] = iris_df.species.apply(lambda x: iris.target_names[x])\n",
        "setosa_df = iris_df[iris_df['names']=='setosa']\n",
        "versi_df = iris_df[iris_df['names']=='versicolor']\n",
        "virginica_df = iris_df[iris_df['names']=='virginica']"
      ]
    },
    {
      "cell_type": "code",
      "source": [
        "iris_df"
      ],
      "metadata": {
        "id": "-3diEg9c-jnO"
      },
      "execution_count": null,
      "outputs": []
    },
    {
      "cell_type": "code",
      "source": [
        "digits = datasets.load_digits()\n",
        "#digits.data\n",
        "#digits.feature_names\n",
        "digit_df = pd.DataFrame(digits.data,columns=digits.feature_names)\n",
        "digit_df['number'] = digits.target"
      ],
      "metadata": {
        "id": "nstS4YFoLJnV"
      },
      "execution_count": 23,
      "outputs": []
    },
    {
      "cell_type": "code",
      "source": [
        "digit_df"
      ],
      "metadata": {
        "id": "Fa-Y7zpXckSW"
      },
      "execution_count": null,
      "outputs": []
    },
    {
      "cell_type": "code",
      "source": [],
      "metadata": {
        "id": "C3OLAROVjFqD"
      },
      "execution_count": 30,
      "outputs": []
    }
  ]
}