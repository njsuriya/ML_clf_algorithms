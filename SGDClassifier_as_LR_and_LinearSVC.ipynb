{
  "nbformat": 4,
  "nbformat_minor": 0,
  "metadata": {
    "colab": {
      "provenance": [],
      "collapsed_sections": [],
      "authorship_tag": "ABX9TyMh1Nl5UUGIZXJ8VZjFx/0M",
      "include_colab_link": true
    },
    "kernelspec": {
      "name": "python3",
      "display_name": "Python 3"
    },
    "language_info": {
      "name": "python"
    }
  },
  "cells": [
    {
      "cell_type": "markdown",
      "metadata": {
        "id": "view-in-github",
        "colab_type": "text"
      },
      "source": [
        "<a href=\"https://colab.research.google.com/github/njsuriya/ML_clf_algorithms/blob/main/SGDClassifier_as_LR_and_LinearSVC.ipynb\" target=\"_parent\"><img src=\"https://colab.research.google.com/assets/colab-badge.svg\" alt=\"Open In Colab\"/></a>"
      ]
    },
    {
      "cell_type": "code",
      "execution_count": 2,
      "metadata": {
        "id": "2KYrjAeMyc5o"
      },
      "outputs": [],
      "source": [
        "from sklearn.model_selection import train_test_split\n",
        "from sklearn.feature_extraction.text import TfidfVectorizer\n",
        "from sklearn.linear_model import SGDClassifier\n",
        "from sklearn.pipeline import Pipeline\n",
        "import pandas as pd \n",
        "import time"
      ]
    },
    {
      "cell_type": "code",
      "source": [
        "df = pd.read_csv(\"/content/amazon_4class_dataset.csv\")"
      ],
      "metadata": {
        "id": "e8qEr4OOzA04"
      },
      "execution_count": 3,
      "outputs": []
    },
    {
      "cell_type": "code",
      "source": [
        "feature = df['text']\n",
        "label = df['labels']"
      ],
      "metadata": {
        "id": "sdUgIMQWzMz5"
      },
      "execution_count": 4,
      "outputs": []
    },
    {
      "cell_type": "code",
      "source": [
        "x_train,x_test,y_train,y_test = train_test_split(feature,label)"
      ],
      "metadata": {
        "id": "nCdU7jv1zcaq"
      },
      "execution_count": 11,
      "outputs": []
    },
    {
      "cell_type": "code",
      "source": [
        "logreg_pipe = Pipeline([('tfidf',TfidfVectorizer()),('sgd_lr',SGDClassifier(loss='log'))])"
      ],
      "metadata": {
        "id": "4JyEe2Or0E6D"
      },
      "execution_count": 6,
      "outputs": []
    },
    {
      "cell_type": "code",
      "source": [
        "linearsvc_pipe = Pipeline([('tfidf',TfidfVectorizer()),('sgd_lr',SGDClassifier(loss='hinge'))])"
      ],
      "metadata": {
        "id": "CipviE2G1C1o"
      },
      "execution_count": 8,
      "outputs": []
    },
    {
      "cell_type": "code",
      "source": [
        "start = time.perf_counter()\n",
        "logreg_pipe.fit(x_train,y_train)\n",
        "print(\"Time taken to train {}\".format(time.perf_counter()-start))"
      ],
      "metadata": {
        "colab": {
          "base_uri": "https://localhost:8080/"
        },
        "id": "cWlrSqrO1VrW",
        "outputId": "098ae0d0-6dad-416b-90b6-b01eafa251e8"
      },
      "execution_count": 20,
      "outputs": [
        {
          "output_type": "stream",
          "name": "stdout",
          "text": [
            "Time taken to train 0.07011811199981821\n"
          ]
        }
      ]
    },
    {
      "cell_type": "code",
      "source": [
        "start = time.perf_counter()\n",
        "linearsvc_pipe.fit(x_train,y_train)\n",
        "print(\"Time taken to train {}\".format(time.perf_counter()-start))"
      ],
      "metadata": {
        "colab": {
          "base_uri": "https://localhost:8080/"
        },
        "id": "EzJnW81W2O17",
        "outputId": "99955797-4c39-40c8-d5a6-3895cdc8878b"
      },
      "execution_count": 21,
      "outputs": [
        {
          "output_type": "stream",
          "name": "stdout",
          "text": [
            "Time taken to train 0.06692481200025213\n"
          ]
        }
      ]
    },
    {
      "cell_type": "code",
      "source": [
        "logreg_pipe.score(x_test,y_test)"
      ],
      "metadata": {
        "colab": {
          "base_uri": "https://localhost:8080/"
        },
        "id": "c5mrGyCH2ivU",
        "outputId": "5aef9889-f7fa-4327-9f91-6f593c8a363d"
      },
      "execution_count": 24,
      "outputs": [
        {
          "output_type": "execute_result",
          "data": {
            "text/plain": [
              "0.956989247311828"
            ]
          },
          "metadata": {},
          "execution_count": 24
        }
      ]
    },
    {
      "cell_type": "code",
      "source": [
        "linearsvc_pipe.score(x_test,y_test)"
      ],
      "metadata": {
        "colab": {
          "base_uri": "https://localhost:8080/"
        },
        "id": "lilh3oW78E6U",
        "outputId": "b07d3af0-a1a8-4ccd-b4b1-a25cfdb3dc27"
      },
      "execution_count": 25,
      "outputs": [
        {
          "output_type": "execute_result",
          "data": {
            "text/plain": [
              "0.956989247311828"
            ]
          },
          "metadata": {},
          "execution_count": 25
        }
      ]
    },
    {
      "cell_type": "code",
      "source": [
        "linearsvc_pipe.predict([\"The Fire TV was good with bluetooth\"])"
      ],
      "metadata": {
        "colab": {
          "base_uri": "https://localhost:8080/"
        },
        "id": "mCDGzJZ48fvK",
        "outputId": "38211dab-281c-41a0-f08c-5691adfd6992"
      },
      "execution_count": 28,
      "outputs": [
        {
          "output_type": "execute_result",
          "data": {
            "text/plain": [
              "array(['Amazon Fire TV'], dtype='<U53')"
            ]
          },
          "metadata": {},
          "execution_count": 28
        }
      ]
    }
  ]
}