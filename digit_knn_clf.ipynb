{
  "nbformat": 4,
  "nbformat_minor": 0,
  "metadata": {
    "colab": {
      "provenance": [],
      "authorship_tag": "ABX9TyO/91F00lx/N+0bzNBNeiWv",
      "include_colab_link": true
    },
    "kernelspec": {
      "name": "python3",
      "display_name": "Python 3"
    },
    "language_info": {
      "name": "python"
    }
  },
  "cells": [
    {
      "cell_type": "markdown",
      "metadata": {
        "id": "view-in-github",
        "colab_type": "text"
      },
      "source": [
        "<a href=\"https://colab.research.google.com/github/njsuriya/ML_clf_algorithms/blob/main/digit_knn_clf.ipynb\" target=\"_parent\"><img src=\"https://colab.research.google.com/assets/colab-badge.svg\" alt=\"Open In Colab\"/></a>"
      ]
    },
    {
      "cell_type": "code",
      "execution_count": 2,
      "metadata": {
        "id": "0qZOGFBS6PHt"
      },
      "outputs": [],
      "source": [
        "from sklearn import datasets\n",
        "import pandas as pd\n",
        "from sklearn.neighbors import KNeighborsClassifier\n",
        "from sklearn.metrics import accuracy_score\n",
        "from sklearn.metrics import confusion_matrix,ConfusionMatrixDisplay\n",
        "from sklearn.model_selection import train_test_split\n",
        "import seaborn as sns\n",
        "import matplotlib.pyplot as plt\n",
        "import time"
      ]
    },
    {
      "cell_type": "code",
      "source": [
        "digits = datasets.load_digits()\n",
        "digit_df = pd.DataFrame(digits.data,columns=digits.feature_names)\n",
        "digit_df['number'] = digits.target"
      ],
      "metadata": {
        "id": "xdrVW1G66uGa"
      },
      "execution_count": 3,
      "outputs": []
    },
    {
      "cell_type": "code",
      "source": [
        "digit_df"
      ],
      "metadata": {
        "id": "xlLhTDpf61UT"
      },
      "execution_count": null,
      "outputs": []
    },
    {
      "cell_type": "code",
      "source": [
        "input,output = digit_df.drop(['number'],axis = 1), digit_df['number']\n",
        "x_train,x_test,y_train,y_test = train_test_split(input,output)"
      ],
      "metadata": {
        "id": "ROhKGIpF7O01"
      },
      "execution_count": 6,
      "outputs": []
    },
    {
      "cell_type": "code",
      "source": [
        "def train_knnmodel_with_kvalues(k):\n",
        "  start = time.perf_counter()\n",
        "  knn_clf = KNeighborsClassifier(n_neighbors=k).fit(x_train,y_train)\n",
        "  train_time = time.perf_counter() - start\n",
        "  return train_time,knn_clf"
      ],
      "metadata": {
        "id": "xEWYZ76q63nI"
      },
      "execution_count": 7,
      "outputs": []
    },
    {
      "cell_type": "code",
      "source": [
        "def test_knnmodel(model):\n",
        "  start = time.perf_counter()\n",
        "  clf_pred = model.predict(x_test)\n",
        "  test_time = time.perf_counter() - start\n",
        "  prediction_score = accuracy_score(y_test,clf_pred)\n",
        "  return test_time,prediction_score"
      ],
      "metadata": {
        "id": "w5vmgNGN79CC"
      },
      "execution_count": 13,
      "outputs": []
    },
    {
      "cell_type": "code",
      "source": [
        "accu_score = list()\n",
        "train_time = list()\n",
        "pred_time = list()\n",
        "for n_neighbour in range(1,1000):\n",
        "  _train_time, knnmodel = train_knnmodel_with_kvalues(n_neighbour)\n",
        "  _test_time, score =test_knnmodel(knnmodel)\n",
        "  accu_score.append(score)\n",
        "  train_time.append(_train_time)\n",
        "  pred_time.append(_test_time)\n",
        "  #print(\"KValue:::\"+str(n_neighbour)+\" Training Time:::\"+str(_train_time)+\" PredctionTime:::\"+str(_test_time)+\" Score:::\"+str(score))"
      ],
      "metadata": {
        "id": "h3MFMhKE8Or3"
      },
      "execution_count": 24,
      "outputs": []
    },
    {
      "cell_type": "code",
      "source": [
        "plt.plot(range(1,100),accu_score[:99],'go')\n",
        "plt.show"
      ],
      "metadata": {
        "colab": {
          "base_uri": "https://localhost:8080/",
          "height": 283
        },
        "id": "9u55Vv33-ZfZ",
        "outputId": "78bfa560-4864-4af0-d306-1550a9c2d931"
      },
      "execution_count": 21,
      "outputs": [
        {
          "output_type": "execute_result",
          "data": {
            "text/plain": [
              "<function matplotlib.pyplot.show(*args, **kw)>"
            ]
          },
          "metadata": {},
          "execution_count": 21
        },
        {
          "output_type": "display_data",
          "data": {
            "text/plain": [
              "<Figure size 432x288 with 1 Axes>"
            ],
            "image/png": "[encoded data removed]"
          },
          "metadata": {
            "needs_background": "light"
          }
        }
      ]
    },
    {
      "cell_type": "code",
      "source": [
        "plt.plot(range(1,20),accu_score[:19],marker = 'o')\n",
        "plt.show"
      ],
      "metadata": {
        "colab": {
          "base_uri": "https://localhost:8080/",
          "height": 283
        },
        "id": "jPJt_08O-5JP",
        "outputId": "84fd6d59-d983-44ed-bdf7-3bd656c3525b"
      },
      "execution_count": 23,
      "outputs": [
        {
          "output_type": "execute_result",
          "data": {
            "text/plain": [
              "<function matplotlib.pyplot.show(*args, **kw)>"
            ]
          },
          "metadata": {},
          "execution_count": 23
        },
        {
          "output_type": "display_data",
          "data": {
            "text/plain": [
              "<Figure size 432x288 with 1 Axes>"
            ],
            "image/png": "[encoded data removed]"
          },
          "metadata": {
            "needs_background": "light"
          }
        }
      ]
    },
    {
      "cell_type": "code",
      "source": [
        "plt.plot(range(1,5),train_time[:4],marker = 'o')\n",
        "plt.show"
      ],
      "metadata": {
        "colab": {
          "base_uri": "https://localhost:8080/",
          "height": 283
        },
        "id": "a1fKOi56AE7g",
        "outputId": "4023fd6d-248a-499c-ecbf-a43740a95df5"
      },
      "execution_count": 28,
      "outputs": [
        {
          "output_type": "execute_result",
          "data": {
            "text/plain": [
              "<function matplotlib.pyplot.show(*args, **kw)>"
            ]
          },
          "metadata": {},
          "execution_count": 28
        },
        {
          "output_type": "display_data",
          "data": {
            "text/plain": [
              "<Figure size 432x288 with 1 Axes>"
            ],
            "image/png": "[encoded data removed]"
          },
          "metadata": {
            "needs_background": "light"
          }
        }
      ]
    }
  ]
}